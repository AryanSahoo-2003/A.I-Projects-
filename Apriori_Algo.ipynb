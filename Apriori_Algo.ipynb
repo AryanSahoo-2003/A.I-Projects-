{
  "nbformat": 4,
  "nbformat_minor": 0,
  "metadata": {
    "colab": {
      "provenance": []
    },
    "kernelspec": {
      "name": "python3",
      "display_name": "Python 3"
    },
    "language_info": {
      "name": "python"
    }
  },
  "cells": [
    {
      "cell_type": "code",
      "execution_count": null,
      "metadata": {
        "id": "Cc2ltSw9bRIv"
      },
      "outputs": [],
      "source": [
        "import numpy as np\n",
        "import pandas as pd\n",
        "import matplotlib.pyplot as plt\n",
        "A=\"A\";B=\"B\";C=\"C\";D=\"D\";E=\"E\";F=\"F\";G=\"G\";H=\"H\";I=\"I\";J=\"J\";K=\"K\"\n",
        "trans = [[A, B, C, D, E, F],[B, C, D, E, F, G],[A, D, E, H],[A, D, F, I, J],[B, D, E, K]]\n",
        "transaction=dict()\n",
        "s=\"T\"\n",
        "for i in range(0,5):\n",
        "  b=s+str(i+1)\n",
        "  transaction[b]=trans[i]\n"
      ]
    },
    {
      "cell_type": "code",
      "source": [
        "min_support =3;min_confidence = 4;\n",
        "transaction"
      ],
      "metadata": {
        "colab": {
          "base_uri": "https://localhost:8080/"
        },
        "id": "28IaKBWueZh7",
        "outputId": "2b303a4c-9399-4d92-ef7f-67e2e88c3009"
      },
      "execution_count": null,
      "outputs": [
        {
          "output_type": "execute_result",
          "data": {
            "text/plain": [
              "{'T1': ['A', 'B', 'C', 'D', 'E', 'F'],\n",
              " 'T2': ['B', 'C', 'D', 'E', 'F', 'G'],\n",
              " 'T3': ['A', 'D', 'E', 'H'],\n",
              " 'T4': ['A', 'D', 'F', 'I', 'J'],\n",
              " 'T5': ['B', 'D', 'E', 'K']}"
            ]
          },
          "metadata": {},
          "execution_count": 4
        }
      ]
    },
    {
      "cell_type": "code",
      "source": [
        "vocab = set()\n",
        "for i in trans:\n",
        "  for j in i:\n",
        "    vocab.add(j)\n",
        "frequent = dict()\n",
        "for i in vocab:\n",
        "  frequent[i]=0\n",
        "\n",
        "for i in trans:\n",
        "  for j in i:\n",
        "    frequent[j]+=1\n",
        "frequent"
      ],
      "metadata": {
        "colab": {
          "base_uri": "https://localhost:8080/"
        },
        "id": "qyEi3TNEfGtr",
        "outputId": "a26aecf3-5f74-473e-ee42-80c9d1432f0f"
      },
      "execution_count": null,
      "outputs": [
        {
          "output_type": "execute_result",
          "data": {
            "text/plain": [
              "{'D': 5,\n",
              " 'G': 1,\n",
              " 'H': 1,\n",
              " 'E': 4,\n",
              " 'J': 1,\n",
              " 'B': 3,\n",
              " 'F': 3,\n",
              " 'K': 1,\n",
              " 'C': 2,\n",
              " 'I': 1,\n",
              " 'A': 3}"
            ]
          },
          "metadata": {},
          "execution_count": 5
        }
      ]
    },
    {
      "cell_type": "code",
      "source": [
        "freq = dict()\n",
        "for i in frequent:\n",
        "  if frequent[i]>=min_support:\n",
        "    freq[(i)]=frequent[i]\n",
        "freq"
      ],
      "metadata": {
        "colab": {
          "base_uri": "https://localhost:8080/"
        },
        "id": "DziMlGdngK0l",
        "outputId": "d49880e3-a28a-4529-fe65-7f03afb3abf9"
      },
      "execution_count": null,
      "outputs": [
        {
          "output_type": "execute_result",
          "data": {
            "text/plain": [
              "{'D': 5, 'E': 4, 'B': 3, 'F': 3, 'A': 3}"
            ]
          },
          "metadata": {},
          "execution_count": 6
        }
      ]
    },
    {
      "cell_type": "code",
      "source": [
        "def candidate_generation(size,freq):\n",
        "  new_candidates = dict()\n",
        "  for items in freq:\n",
        "    for item in freq:\n",
        "      if len(set(items).union(set(item)))==size:\n",
        "        candidate = tuple(sorted(set(items).union(set(item))))\n",
        "        if candidate not in new_candidates:\n",
        "          new_candidates[candidate]=0\n",
        "  return new_candidates"
      ],
      "metadata": {
        "id": "ZXyTq2pph2rV"
      },
      "execution_count": null,
      "outputs": []
    },
    {
      "cell_type": "code",
      "source": [
        "size=2\n",
        "alpha = candidate_generation(size,freq)\n",
        "while(alpha):\n",
        "  for transactions_id in trans:\n",
        "    for candidates in alpha:\n",
        "      if set(candidates).issubset(set(transactions_id)):\n",
        "        alpha[candidates]+=1\n",
        "\n",
        "  freq.update({key:frequency for key,frequency in alpha.items() if frequency>=min_support})\n",
        "  size+=1\n",
        "  alpha = candidate_generation(size,freq)"
      ],
      "metadata": {
        "id": "zM_G3-_4ksjo"
      },
      "execution_count": null,
      "outputs": []
    },
    {
      "cell_type": "code",
      "source": [
        "freq"
      ],
      "metadata": {
        "colab": {
          "base_uri": "https://localhost:8080/"
        },
        "id": "p4lLdSCck19K",
        "outputId": "e47abf40-a6c7-46b2-813e-e48ec150179e"
      },
      "execution_count": null,
      "outputs": [
        {
          "output_type": "execute_result",
          "data": {
            "text/plain": [
              "{'D': 5,\n",
              " 'E': 4,\n",
              " 'B': 3,\n",
              " 'F': 3,\n",
              " 'A': 3,\n",
              " ('D', 'E'): 4,\n",
              " ('B', 'D'): 3,\n",
              " ('D', 'F'): 3,\n",
              " ('A', 'D'): 3,\n",
              " ('B', 'E'): 3,\n",
              " ('B', 'D', 'E'): 3}"
            ]
          },
          "metadata": {},
          "execution_count": 14
        }
      ]
    },
    {
      "cell_type": "code",
      "source": [
        "frozen_freq=dict()\n",
        "for items,value in freq.items():\n",
        "  frozen_freq[frozenset(items)]=value\n",
        "frozen_freq"
      ],
      "metadata": {
        "colab": {
          "base_uri": "https://localhost:8080/"
        },
        "id": "B4--fbb8uBzp",
        "outputId": "0d80632f-a04c-41d2-f372-9181840aacdc"
      },
      "execution_count": null,
      "outputs": [
        {
          "output_type": "execute_result",
          "data": {
            "text/plain": [
              "{frozenset({'D'}): 5,\n",
              " frozenset({'E'}): 4,\n",
              " frozenset({'B'}): 3,\n",
              " frozenset({'F'}): 3,\n",
              " frozenset({'A'}): 3,\n",
              " frozenset({'D', 'E'}): 4,\n",
              " frozenset({'B', 'D'}): 3,\n",
              " frozenset({'D', 'F'}): 3,\n",
              " frozenset({'A', 'D'}): 3,\n",
              " frozenset({'B', 'E'}): 3,\n",
              " frozenset({'B', 'D', 'E'}): 3}"
            ]
          },
          "metadata": {},
          "execution_count": 25
        }
      ]
    },
    {
      "cell_type": "code",
      "source": [
        "from itertools import combinations\n",
        "\n",
        "def generate_association_rules(frequent_sets, min_confidence):\n",
        "    association_rules = []\n",
        "    for frequent_set in frequent_sets:\n",
        "        for i in range(1, len(frequent_set)):\n",
        "            for antecedent in combinations(frequent_set, i):\n",
        "                antecedent = frozenset(antecedent)\n",
        "                consequent = frequent_set - antecedent\n",
        "                confidence = frequent_sets[antecedent.union(consequent)] / frequent_sets[antecedent]\n",
        "                if confidence >= min_confidence:\n",
        "                    association_rules.append((antecedent, consequent, confidence))\n",
        "    return association_rules\n",
        "min_confidence = 0.8\n",
        "association_rules = generate_association_rules(frozen_freq, min_confidence)"
      ],
      "metadata": {
        "id": "UFV3XIf-mQMx"
      },
      "execution_count": null,
      "outputs": []
    },
    {
      "cell_type": "code",
      "source": [
        "def generate_A_antecedent_rules(frequent_itemsets, min_confidence):\n",
        "    A_antecedent_rules = []\n",
        "    for antecedent, consequent, confidence in association_rules:\n",
        "        if 'A' in antecedent:\n",
        "            A_antecedent_rules.append((antecedent, consequent, confidence))\n",
        "    return A_antecedent_rules\n"
      ],
      "metadata": {
        "id": "aSZ33HDxnR-T"
      },
      "execution_count": null,
      "outputs": []
    },
    {
      "cell_type": "code",
      "source": [
        "for items in association_rules:\n",
        "  print(set(items[0]),\" -> \",set(items[1]),\"\\t\\t having confidence  = \", items[2])"
      ],
      "metadata": {
        "colab": {
          "base_uri": "https://localhost:8080/"
        },
        "id": "DSHEyk_0EdH4",
        "outputId": "96e1fcd8-2484-4461-98fc-72798a81508f"
      },
      "execution_count": null,
      "outputs": [
        {
          "output_type": "stream",
          "name": "stdout",
          "text": [
            "{'E'}  ->  {'D'} \t\t having confidence  =  1.0\n",
            "{'D'}  ->  {'E'} \t\t having confidence  =  0.8\n",
            "{'B'}  ->  {'D'} \t\t having confidence  =  1.0\n",
            "{'F'}  ->  {'D'} \t\t having confidence  =  1.0\n",
            "{'A'}  ->  {'D'} \t\t having confidence  =  1.0\n",
            "{'B'}  ->  {'E'} \t\t having confidence  =  1.0\n",
            "{'B'}  ->  {'E', 'D'} \t\t having confidence  =  1.0\n",
            "{'E', 'B'}  ->  {'D'} \t\t having confidence  =  1.0\n",
            "{'D', 'B'}  ->  {'E'} \t\t having confidence  =  1.0\n"
          ]
        }
      ]
    },
    {
      "cell_type": "code",
      "source": [
        "for items in generate_A_antecedent_rules(frozen_freq,min_confidence):\n",
        "  print(set(items[0]),\" -> \",set(items[1]),\"\\t\\t having confidence  = \", items[2])"
      ],
      "metadata": {
        "colab": {
          "base_uri": "https://localhost:8080/"
        },
        "id": "c3TREZYpFVPx",
        "outputId": "635cbe44-51a4-4161-83b4-2c67a2d514b9"
      },
      "execution_count": null,
      "outputs": [
        {
          "output_type": "stream",
          "name": "stdout",
          "text": [
            "{'A'}  ->  {'D'} \t\t having confidence  =  1.0\n"
          ]
        }
      ]
    },
    {
      "cell_type": "code",
      "source": [],
      "metadata": {
        "id": "SeeAUYxaF0ts"
      },
      "execution_count": null,
      "outputs": []
    }
  ]
}