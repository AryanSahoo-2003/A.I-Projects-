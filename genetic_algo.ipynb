{
  "nbformat": 4,
  "nbformat_minor": 0,
  "metadata": {
    "colab": {
      "provenance": []
    },
    "kernelspec": {
      "name": "python3",
      "display_name": "Python 3"
    },
    "language_info": {
      "name": "python"
    }
  },
  "cells": [
    {
      "cell_type": "markdown",
      "source": [
        "#Genetic Algorithm implementation - Lab 9"
      ],
      "metadata": {
        "id": "sUUffbk1B1Lk"
      }
    },
    {
      "cell_type": "code",
      "source": [
        "import random\n",
        "weight_limit = 6\n",
        "weight_limit = int(input(\"Enter the maximum weight for the sac : \"))\n",
        "item_weights = [4,5,1]\n",
        "item_weights = list(input(\"Enter the weights of sub sac present : \").split())\n",
        "item_weights = [int(i) for i in item_weights]\n",
        "print(item_weights,\" \",len(item_weights))\n",
        "\n",
        "item_values = list(input(\"Enter the values of each weights present : \").split())\n",
        "item_values = [int(i) for i in item_values]\n",
        "print(item_values,\" \",len(item_values))\n",
        "\n",
        "\n",
        "# item_values = [2,2,2]\n",
        "mutation_probability = 1/len(item_values)\n",
        "#For this genetic algorithm , Kahin pr padha tha ki 6 steps hote hai like : 1.Initial Pop. 2.Fitness nikalo 3.Select best parents 4.Crossover hota 5.Mutate hojate 6.Termination / repeatition\n",
        "\n",
        "print(len(item_values))"
      ],
      "metadata": {
        "id": "JWErqZ51jGWw"
      },
      "execution_count": null,
      "outputs": []
    },
    {
      "cell_type": "markdown",
      "source": [
        "#Part 1 : Intialization\n",
        "\n",
        "\n"
      ],
      "metadata": {
        "id": "0PrQ6RBeqSHs"
      }
    },
    {
      "cell_type": "code",
      "source": [
        "population_size = 25\n",
        "num_generations = 80\n",
        "initial_pop = []\n",
        "for i in range(0,population_size):\n",
        "  alpha= []\n",
        "  for j in range(0,len(item_values)):\n",
        "    alpha.append(random.randint(0,1))\n",
        "  initial_pop.append(alpha)\n",
        "  \n",
        "initial_pop"
      ],
      "metadata": {
        "colab": {
          "base_uri": "https://localhost:8080/"
        },
        "id": "oeJvOHLbqRWu",
        "outputId": "f87b75fa-63be-4e52-9700-37f6f367271a"
      },
      "execution_count": 7,
      "outputs": [
        {
          "output_type": "execute_result",
          "data": {
            "text/plain": [
              "[[0, 1, 0, 0, 0, 0],\n",
              " [1, 0, 0, 1, 1, 0],\n",
              " [0, 0, 1, 1, 1, 0],\n",
              " [0, 1, 0, 1, 1, 0],\n",
              " [1, 0, 0, 1, 1, 1],\n",
              " [1, 1, 1, 1, 0, 1],\n",
              " [0, 1, 0, 1, 0, 0],\n",
              " [1, 0, 1, 1, 1, 1],\n",
              " [1, 0, 0, 0, 0, 0],\n",
              " [1, 1, 1, 1, 0, 0],\n",
              " [1, 0, 0, 1, 1, 0],\n",
              " [1, 0, 1, 1, 1, 0],\n",
              " [1, 1, 1, 1, 0, 0],\n",
              " [1, 0, 1, 1, 1, 0],\n",
              " [0, 1, 1, 1, 0, 1],\n",
              " [1, 1, 0, 0, 0, 1],\n",
              " [0, 0, 1, 1, 1, 0],\n",
              " [0, 1, 1, 0, 1, 0],\n",
              " [0, 1, 1, 0, 0, 1],\n",
              " [0, 0, 1, 1, 1, 1],\n",
              " [0, 0, 0, 0, 1, 0],\n",
              " [0, 1, 0, 0, 0, 1],\n",
              " [1, 0, 0, 1, 1, 1],\n",
              " [1, 1, 0, 0, 1, 1],\n",
              " [1, 0, 0, 1, 0, 0]]"
            ]
          },
          "metadata": {},
          "execution_count": 7
        }
      ]
    },
    {
      "cell_type": "markdown",
      "source": [
        "#Part 2 : Fitness Function"
      ],
      "metadata": {
        "id": "FEFqcwd7r72b"
      }
    },
    {
      "cell_type": "code",
      "source": [
        "def fitness_obj(list1):\n",
        "  item_weightsum=0\n",
        "  item_valuesum = 0\n",
        "  for items in range(0,len(list1)):\n",
        "    item_weightsum+=item_weights[items]*list1[items]\n",
        "    item_valuesum+=item_values[items]*list1[items]\n",
        "  if(item_weightsum>weight_limit):\n",
        "    return 0\n",
        "  return item_valuesum\n",
        "\n",
        "for items in initial_pop:\n",
        "  print(items,\" : \",fitness_obj(items),end = '\\n')"
      ],
      "metadata": {
        "colab": {
          "base_uri": "https://localhost:8080/"
        },
        "id": "vfng9xxRrylc",
        "outputId": "280ccefc-9d49-4a61-84ad-a1982f8dff30"
      },
      "execution_count": 8,
      "outputs": [
        {
          "output_type": "stream",
          "name": "stdout",
          "text": [
            "[0, 1, 0, 0, 0, 0]  :  5\n",
            "[1, 0, 0, 1, 1, 0]  :  0\n",
            "[0, 0, 1, 1, 1, 0]  :  0\n",
            "[0, 1, 0, 1, 1, 0]  :  0\n",
            "[1, 0, 0, 1, 1, 1]  :  0\n",
            "[1, 1, 1, 1, 0, 1]  :  0\n",
            "[0, 1, 0, 1, 0, 0]  :  45\n",
            "[1, 0, 1, 1, 1, 1]  :  0\n",
            "[1, 0, 0, 0, 0, 0]  :  20\n",
            "[1, 1, 1, 1, 0, 0]  :  0\n",
            "[1, 0, 0, 1, 1, 0]  :  0\n",
            "[1, 0, 1, 1, 1, 0]  :  0\n",
            "[1, 1, 1, 1, 0, 0]  :  0\n",
            "[1, 0, 1, 1, 1, 0]  :  0\n",
            "[0, 1, 1, 1, 0, 1]  :  0\n",
            "[1, 1, 0, 0, 0, 1]  :  50\n",
            "[0, 0, 1, 1, 1, 0]  :  0\n",
            "[0, 1, 1, 0, 1, 0]  :  0\n",
            "[0, 1, 1, 0, 0, 1]  :  40\n",
            "[0, 0, 1, 1, 1, 1]  :  0\n",
            "[0, 0, 0, 0, 1, 0]  :  15\n",
            "[0, 1, 0, 0, 0, 1]  :  30\n",
            "[1, 0, 0, 1, 1, 1]  :  0\n",
            "[1, 1, 0, 0, 1, 1]  :  0\n",
            "[1, 0, 0, 1, 0, 0]  :  60\n"
          ]
        }
      ]
    },
    {
      "cell_type": "markdown",
      "source": [
        "#Part 3 : Selection\n"
      ],
      "metadata": {
        "id": "0deeK5yLvEq3"
      }
    },
    {
      "cell_type": "code",
      "source": [
        "def selection_func(initial_pop):\n",
        "  parent_1 = []\n",
        "  while(True):\n",
        "    parent_1 = random.choice(initial_pop)\n",
        "    if(fitness_obj(parent_1)>0):break\n",
        "  while(True):\n",
        "   parent_2 = random.choice(initial_pop)\n",
        "   if(fitness_obj(parent_2)>0):break\n",
        "  return parent_1,parent_2\n",
        "# selection_func([[1,0,0,0],[1,1,1,1],[1,0,0,1]])\n"
      ],
      "metadata": {
        "id": "5iq94LZCvDK4"
      },
      "execution_count": 9,
      "outputs": []
    },
    {
      "cell_type": "markdown",
      "source": [
        "#Part 4 : Cross-Over"
      ],
      "metadata": {
        "id": "l6FNksnWx3zT"
      }
    },
    {
      "cell_type": "code",
      "source": [
        "def cross_over_func(parent1,parent2):\n",
        "  key_point = random.randint(0,len(parent1)-1)\n",
        "  candidate_1 = parent1[key_point:]+parent2[:key_point]\n",
        "  candidate_2 = parent2[key_point:]+parent1[:key_point]\n",
        "  return candidate_1,candidate_2\n"
      ],
      "metadata": {
        "id": "xsdBdGyCxeHD"
      },
      "execution_count": 10,
      "outputs": []
    },
    {
      "cell_type": "markdown",
      "source": [
        "#Part 5 : Mutation"
      ],
      "metadata": {
        "id": "3BhUCdRVy2vP"
      }
    },
    {
      "cell_type": "code",
      "source": [
        "def mutation_func(candidate):\n",
        "  key_point = random.randint(0,len(candidate)-1)\n",
        "  candidate[key_point] = (candidate[key_point]+1)%2\n",
        "  return candidate"
      ],
      "metadata": {
        "id": "-bpaoEQEySet"
      },
      "execution_count": 11,
      "outputs": []
    },
    {
      "cell_type": "markdown",
      "source": [
        "#Part 6 : Again Do Best Selection and Last is termination"
      ],
      "metadata": {
        "id": "fquk_QHjzqd0"
      }
    },
    {
      "cell_type": "code",
      "source": [
        "def get_best(population):\n",
        "\tfitness_values = []\n",
        "\tfor chromosome in population:\n",
        "\t\tfitness_values.append(fitness_obj(chromosome))\n",
        "\n",
        "\tmax_value = max(fitness_values)\n",
        "\tmax_index = fitness_values.index(max_value)\n",
        "\treturn population[max_index]\n",
        "\n",
        "get_best(initial_pop)"
      ],
      "metadata": {
        "colab": {
          "base_uri": "https://localhost:8080/"
        },
        "id": "HY4oLPSXzlce",
        "outputId": "e366e4ef-bf3c-4c3c-ef1e-20cab3220f28"
      },
      "execution_count": 12,
      "outputs": [
        {
          "output_type": "execute_result",
          "data": {
            "text/plain": [
              "[1, 0, 0, 1, 0, 0]"
            ]
          },
          "metadata": {},
          "execution_count": 12
        }
      ]
    },
    {
      "cell_type": "code",
      "source": [
        "for items in range(num_generations):\n",
        "  parent1, parent2 = selection_func(initial_pop)\n",
        "  child1, child2 = cross_over_func(parent1, parent2)\n",
        "  candidate_1 = child1\n",
        "  candidate_2 = child2\n",
        "  if random.uniform(0, 1) < mutation_probability:\n",
        "    candidate_1 = mutation_func(candidate_1)\n",
        "  if random.uniform(0, 1) < mutation_probability:\n",
        "    candidate_2 = mutation_func(candidate_2)\n",
        "  initial_pop = [candidate_1, candidate_2] + initial_pop[2:]\n"
      ],
      "metadata": {
        "id": "OLovFT3d0gNU"
      },
      "execution_count": 14,
      "outputs": []
    },
    {
      "cell_type": "code",
      "source": [
        "let_get_best = get_best(initial_pop)"
      ],
      "metadata": {
        "id": "B65i7Ro93s5g"
      },
      "execution_count": 15,
      "outputs": []
    },
    {
      "cell_type": "markdown",
      "source": [
        "#Final Answer"
      ],
      "metadata": {
        "id": "r-TXU9gvA6xa"
      }
    },
    {
      "cell_type": "code",
      "source": [
        "for items in range(0,len(let_get_best)):\n",
        "  item_weights[items]*=let_get_best[items]\n",
        "print(item_weights)"
      ],
      "metadata": {
        "colab": {
          "base_uri": "https://localhost:8080/"
        },
        "id": "YAZUSeji-pjP",
        "outputId": "f5f5123e-d32a-494a-c76c-43a929318fad"
      },
      "execution_count": 16,
      "outputs": [
        {
          "output_type": "stream",
          "name": "stdout",
          "text": [
            "[1, 0, 0, 8, 0, 0]\n"
          ]
        }
      ]
    },
    {
      "cell_type": "code",
      "source": [
        "sum = 0\n",
        "for items in range(0,len(let_get_best)):\n",
        "  sum += let_get_best[items]*item_values[items]\n",
        "print(\"Total Value Accomodated is \", sum) "
      ],
      "metadata": {
        "colab": {
          "base_uri": "https://localhost:8080/"
        },
        "id": "USrKuMUQ-seO",
        "outputId": "a9512d71-f5d9-4ddd-90ff-a6ba1bf3c70f"
      },
      "execution_count": 17,
      "outputs": [
        {
          "output_type": "stream",
          "name": "stdout",
          "text": [
            "Total Value Accomodated is  60\n"
          ]
        }
      ]
    },
    {
      "cell_type": "code",
      "source": [],
      "metadata": {
        "id": "hacLXQJSCN_L"
      },
      "execution_count": null,
      "outputs": []
    }
  ]
}